{
 "cells": [
  {
   "cell_type": "code",
   "execution_count": 1,
   "id": "6cb0deeb-d979-4ba7-bf87-0d6bb1392c94",
   "metadata": {},
   "outputs": [],
   "source": [
    "import qiskit"
   ]
  },
  {
   "cell_type": "code",
   "execution_count": 2,
   "id": "6df02566-ad69-47af-adb9-7df650e8e40f",
   "metadata": {},
   "outputs": [
    {
     "name": "stdout",
     "output_type": "stream",
     "text": [
      "2.2.2\n"
     ]
    }
   ],
   "source": [
    "print(qiskit.__version__)"
   ]
  },
  {
   "cell_type": "code",
   "execution_count": 11,
   "id": "f344cb64-7d15-4e43-8f21-9e2a4e4c941e",
   "metadata": {},
   "outputs": [],
   "source": [
    "from qiskit_ibm_runtime import QiskitRuntimeService\n",
    " \n",
    "QiskitRuntimeService.save_account(\n",
    "token=\"Tss5FNainyTF6o7rgyBls_wXa3gYdO1KRscELDeaAGIw\",\n",
    "instance=\"crn:v1:bluemix:public:quantum-computing:us-east:a/8f638493159249b6b8cfe3bf3a5ae575:18dd035f-aec6-4180-be1a-64cb81ac63f9::\", \n",
    ")\n"
   ]
  },
  {
   "cell_type": "code",
   "execution_count": 15,
   "id": "d6c08880-2890-4dd4-b42d-b061a95783d1",
   "metadata": {},
   "outputs": [
    {
     "name": "stdout",
     "output_type": "stream",
     "text": [
      "✅ Connecté à IBM Quantum !\n"
     ]
    }
   ],
   "source": [
    "from qiskit_ibm_runtime import QiskitRuntimeService\n",
    "\n",
    "service = QiskitRuntimeService()\n",
    "print(\"✅ Connecté à IBM Quantum !\")\n"
   ]
  },
  {
   "cell_type": "code",
   "execution_count": 16,
   "id": "ded547b4-1b66-4b1a-9cb6-4adcdcdf9c83",
   "metadata": {},
   "outputs": [
    {
     "data": {
      "image/png": "[encoded data removed]",
      "text/plain": [
       "<Figure size 287.294x200.667 with 1 Axes>"
      ]
     },
     "execution_count": 16,
     "metadata": {},
     "output_type": "execute_result"
    }
   ],
   "source": [
    "from qiskit import QuantumCircuit\n",
    "from qiskit.quantum_info import SparsePauliOp\n",
    "from qiskit.transpiler import generate_preset_pass_manager\n",
    "from qiskit_ibm_runtime import EstimatorV2 as Estimator\n",
    " \n",
    "# Create a new circuit with two qubits\n",
    "qc = QuantumCircuit(2)\n",
    " \n",
    "# Add a Hadamard gate to qubit 0\n",
    "qc.h(0)\n",
    " \n",
    "# Perform a controlled-X gate on qubit 1, controlled by qubit 0\n",
    "qc.cx(0, 1)\n",
    " \n",
    "# Return a drawing of the circuit using MatPlotLib (\"mpl\").\n",
    "# These guides are written by using Jupyter notebooks, which\n",
    "# display the output of the last line of each cell.\n",
    "# If you're running this in a script, use `print(qc.draw())` to\n",
    "# print a text drawing.\n",
    "qc.draw(\"mpl\")"
   ]
  },
  {
   "cell_type": "code",
   "execution_count": 17,
   "id": "6dcdf785-b37a-40b7-9aa0-1ff33cb34098",
   "metadata": {},
   "outputs": [],
   "source": [
    "# Set up six different observables.\n",
    " \n",
    "observables_labels = [\"IZ\", \"IX\", \"ZI\", \"XI\", \"ZZ\", \"XX\"]\n",
    "observables = [SparsePauliOp(label) for label in observables_labels]"
   ]
  },
  {
   "cell_type": "code",
   "execution_count": 20,
   "id": "491856dd-fc95-4467-a874-e25f1fc6e64b",
   "metadata": {},
   "outputs": [
    {
     "data": {
      "image/png": "[encoded data removed]",
      "text/plain": [
       "<Figure size 757.83x200.667 with 1 Axes>"
      ]
     },
     "execution_count": 20,
     "metadata": {},
     "output_type": "execute_result"
    }
   ],
   "source": [
    "from qiskit_ibm_runtime import QiskitRuntimeService\n",
    " \n",
    "service = QiskitRuntimeService()\n",
    " \n",
    "backend = service.least_busy(simulator=False, operational=True)\n",
    " \n",
    "# Convert to an ISA circuit and layout-mapped observables.\n",
    "pm = generate_preset_pass_manager(backend=backend, optimization_level=1)\n",
    "isa_circuit = pm.run(qc)\n",
    " \n",
    "isa_circuit.draw(\"mpl\", idle_wires=False)"
   ]
  },
  {
   "cell_type": "code",
   "execution_count": 21,
   "id": "0f4dcf4a-f97b-4847-95ce-cb32580f9581",
   "metadata": {},
   "outputs": [
    {
     "name": "stdout",
     "output_type": "stream",
     "text": [
      ">>> Job ID: d41veksh4j8s73eh0o20\n"
     ]
    }
   ],
   "source": [
    "# Construct the Estimator instance.\n",
    "#the estimator gives expectation values ⟨ZZ⟩, ⟨Z⟩, ⟨XX⟩ when we  want average correlations\n",
    "estimator = Estimator(mode=backend)\n",
    "#apply some error-reduction tricks\n",
    "estimator.options.resilience_level = 1\n",
    "#run the circuit 5000 times and average the results\n",
    "estimator.options.default_shots = 5000\n",
    "\n",
    "#we fix the observables to match the new qubit mapping.\n",
    "#This uses the circuit’s layout (the mapping table)\n",
    "#to translate the observable’s stored indices (logical 0,1,…) to the correct physical qubits\n",
    "mapped_observables = [\n",
    "    observable.apply_layout(isa_circuit.layout) for observable in observables\n",
    "]\n",
    " \n",
    "# One pub, with one circuit to run against five different observables.\n",
    "#Run one circuit and measure many observables on it.\n",
    "job = estimator.run([(isa_circuit, mapped_observables)])\n",
    " \n",
    "# Use the job ID to retrieve your job data later\n",
    "#tracking number.\n",
    "print(f\">>> Job ID: {job.job_id()}\")"
   ]
  },
  {
   "cell_type": "code",
   "execution_count": 28,
   "id": "60bcd789-6517-4b20-9296-269acf94d22b",
   "metadata": {},
   "outputs": [
    {
     "name": "stdout",
     "output_type": "stream",
     "text": [
      "QUEUED\n"
     ]
    }
   ],
   "source": [
    "print(job.status())"
   ]
  },
  {
   "cell_type": "markdown",
   "id": "1a24296b-d6c6-45d5-811b-7af62d23ed42",
   "metadata": {},
   "source": [
    "WE WANT UNTIL THE JOB IS FINISHED ON THE QUANTUM COMPUTER "
   ]
  },
  {
   "cell_type": "code",
   "execution_count": null,
   "id": "3da7e242-e022-4c3f-880c-3d24b0b50da8",
   "metadata": {},
   "outputs": [],
   "source": [
    "# This is the result of the entire submission.  You submitted one Pub,\n",
    "# so this contains one inner result (and some metadata of its own).\n",
    "job_result = job.result()\n",
    " \n",
    "# This is the result from our single pub, which had six observables,\n",
    "# so contains information on all six.\n",
    "pub_result = job.result()[0]"
   ]
  },
  {
   "cell_type": "markdown",
   "id": "1884f2e6-af1d-4c34-9613-1b7ee2fea2c8",
   "metadata": {},
   "source": [
    "Here,we try to actually analyze the results "
   ]
  },
  {
   "cell_type": "code",
   "execution_count": null,
   "id": "46666ea4-0f5b-4d18-b7c7-bccbb06c2dc1",
   "metadata": {},
   "outputs": [],
   "source": [
    "from matplotlib import pyplot as plt\n",
    " \n",
    "values = pub_result.data.evs\n",
    " \n",
    "errors = pub_result.data.stds\n",
    " \n",
    "# plotting graph\n",
    "plt.plot(observables_labels, values, \"-o\")\n",
    "plt.xlabel(\"Observables\")\n",
    "plt.ylabel(\"Values\")\n",
    "plt.show()"
   ]
  }
 ],
 "metadata": {
  "kernelspec": {
   "display_name": "Python 3 (ipykernel)",
   "language": "python",
   "name": "python3"
  },
  "language_info": {
   "codemirror_mode": {
    "name": "ipython",
    "version": 3
   },
   "file_extension": ".py",
   "mimetype": "text/x-python",
   "name": "python",
   "nbconvert_exporter": "python",
   "pygments_lexer": "ipython3",
   "version": "3.12.8"
  }
 },
 "nbformat": 4,
 "nbformat_minor": 5
}
